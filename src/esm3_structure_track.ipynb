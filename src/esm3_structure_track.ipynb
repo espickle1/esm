{
 "cells": [
  {
   "cell_type": "code",
   "execution_count": 1,
   "id": "c1105281",
   "metadata": {},
   "outputs": [],
   "source": [
    "# Install dependencies\n",
    "!pip install esm\n",
    "!pip install biopython\n",
    "!pip install ipywidgets"
   ]
  },
  {
   "cell_type": "code",
   "execution_count": 2,
   "id": "a8efd0ec",
   "metadata": {},
   "outputs": [],
   "source": [
    "# Import libraries\n",
    "# Standard libraries\n",
    "import pandas as pd\n",
    "import numpy as np\n",
    "import sys\n",
    "from Bio import SeqIO\n",
    "\n",
    "# PyTorch libraries\n",
    "import torch\n",
    "\n",
    "# ESM3 \n",
    "from huggingface_hub import login\n",
    "from esm.models.esm3 import ESM3\n",
    "from esm.sdk.api import ESM3InferenceClient, ESMProtein, LogitsConfig, GenerationConfig"
   ]
  },
  {
   "cell_type": "code",
   "execution_count": 4,
   "id": "1668b226",
   "metadata": {},
   "outputs": [],
   "source": [
    "## Load ESM3 models from forge\n",
    "from getpass import getpass\n",
    "token = getpass(\"Token from Forge console: \")\n",
    "\n",
    "from esm.sdk import client\n",
    "model = client(\n",
    "    model=\"esm3-medium-2024-08\", \n",
    "    url=\"https://forge.evolutionaryscale.ai\", \n",
    "    token=token\n",
    ") "
   ]
  },
  {
   "cell_type": "code",
   "execution_count": 8,
   "id": "37b50644",
   "metadata": {},
   "outputs": [],
   "source": [
    "## Read all sequences as fasta files\n",
    "fasta_df = []\n",
    "fasta_path = '/home/azureuser/cloudfiles/code/Users/jc62/projects/direct_sequence_analysis/data/antiphage_sequences_short.fasta'\n",
    "\n",
    "fasta_df = pd.DataFrame(columns=[\"description\", \"sequence\"])\n",
    "for record in SeqIO.parse(fasta_path, \"fasta\"):\n",
    "    fasta_df = pd.concat(\n",
    "        [fasta_df, pd.DataFrame(\n",
    "            [[record.id, str(record.seq)]], \n",
    "            columns=[\"description\", \"sequence\"])], \n",
    "        ignore_index=True\n",
    "    )"
   ]
  },
  {
   "cell_type": "code",
   "execution_count": 10,
   "id": "dc11af0c",
   "metadata": {},
   "outputs": [],
   "source": [
    "## Generate structure with structure track\n",
    "def structure_generation(target_sequence, num_steps):\n",
    "    protein = ESMProtein(sequence=target_sequence)\n",
    "    structure = model.generate(\n",
    "        protein,\n",
    "        GenerationConfig(\n",
    "            track=\"structure\",\n",
    "            num_steps=num_steps,\n",
    "            )\n",
    "        )\n",
    "    return structure"
   ]
  },
  {
   "cell_type": "code",
   "execution_count": 11,
   "id": "54cd0fa0",
   "metadata": {},
   "outputs": [],
   "source": [
    "## Generate structures with ESM3 structure track\n",
    "structure = []\n",
    "num_steps = 8\n",
    "pdb_path = \"/home/azureuser/cloudfiles/code/Users/jc62/projects/direct_sequence_analysis/data/pdb_files/\"\n",
    "\n",
    "for i in range(len(fasta_df)):\n",
    "    target_sequence = fasta_df['sequence'][i]\n",
    "    structure = structure_generation(target_sequence, num_steps)\n",
    "    structure.to_pdb(f\"{pdb_path}structure_{i}.pdb\")"
   ]
  }
 ],
 "metadata": {
  "kernelspec": {
   "display_name": "Python 3.8 - Pytorch and Tensorflow",
   "language": "python",
   "name": "python38-azureml-pt-tf"
  }
 },
 "nbformat": 4,
 "nbformat_minor": 5
}
