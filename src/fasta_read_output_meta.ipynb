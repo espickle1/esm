{
 "cells": [
  {
   "cell_type": "code",
   "execution_count": 1,
   "id": "a32cf8d4",
   "metadata": {},
   "outputs": [],
   "source": [
    "# Import dependencies\n",
    "!pip install biopython"
   ]
  },
  {
   "cell_type": "code",
   "execution_count": 2,
   "id": "107e8afd",
   "metadata": {},
   "outputs": [],
   "source": [
    "# Import libraries\n",
    "from Bio import SeqIO\n",
    "import pandas as pd"
   ]
  },
  {
   "cell_type": "code",
   "execution_count": 3,
   "id": "a26e4ab0",
   "metadata": {},
   "outputs": [],
   "source": [
    "# Read the fasta file and parse the sequences\n",
    "fasta_file = \"/home/azureuser/cloudfiles/code/Users/jc62/projects/direct_sequence_analysis/data/antiphage_sequences.fasta\"\n",
    "records = []\n",
    "\n",
    "for record in SeqIO.parse(fasta_file, \"fasta\"):\n",
    "    records.append({\n",
    "        \"id\": record.id,\n",
    "        \"description\": record.description,\n",
    "        \"sequence\": str(record.seq)\n",
    "    })"
   ]
  },
  {
   "cell_type": "code",
   "execution_count": null,
   "id": "b0bc7fa3",
   "metadata": {},
   "outputs": [],
   "source": [
    "# Convert the fasta outputs into data\n",
    "sequence = pd.DataFrame(records)"
   ]
  },
  {
   "cell_type": "code",
   "execution_count": 5,
   "id": "1411d2d6",
   "metadata": {},
   "outputs": [],
   "source": [
    "# Save the DataFrame to a CSV file\n",
    "output_path = \"/home/azureuser/cloudfiles/code/Users/jc62/projects/direct_sequence_analysis/data/antiphage_sequences.csv\"\n",
    "sequence.to_csv(output_path, index=False)\n",
    "print(f\"Data saved to {output_path}\")"
   ]
  }
 ],
 "metadata": {
  "kernelspec": {
   "display_name": "Python 3.8 - Pytorch and Tensorflow",
   "language": "python",
   "name": "python38-azureml-pt-tf"
  }
 },
 "nbformat": 4,
 "nbformat_minor": 5
}
