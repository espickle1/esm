{
 "cells": [
  {
   "cell_type": "code",
   "execution_count": 1,
   "id": "702e5e10",
   "metadata": {},
   "outputs": [],
   "source": [
    "pip install biopython"
   ]
  },
  {
   "cell_type": "code",
   "execution_count": 2,
   "id": "49df8391",
   "metadata": {},
   "outputs": [],
   "source": [
    "# Load libraries\n",
    "import pandas as pd\n",
    "\n",
    "from Bio import Entrez, SeqIO"
   ]
  },
  {
   "cell_type": "code",
   "execution_count": 3,
   "id": "cfb0a718",
   "metadata": {},
   "outputs": [],
   "source": [
    "# Set your email (required by NCBI)\n",
    "Entrez.email = \"James.Chang@bcm.edu\""
   ]
  },
  {
   "cell_type": "code",
   "execution_count": 4,
   "id": "9517862e",
   "metadata": {},
   "outputs": [],
   "source": [
    "# Search parameters and queries\n",
    "query = \"antiphage[Title]\"\n",
    "return_maximum = 15000\n",
    "\n",
    "handle = Entrez.esearch(db=\"protein\", term=query, retmax=return_maximum)\n",
    "record = Entrez.read(handle)\n",
    "handle.close()\n",
    "\n",
    "# Get list of sequence IDs from search results\n",
    "protein_ids = record[\"IdList\"]\n",
    "\n",
    "print(len(protein_ids))"
   ]
  },
  {
   "cell_type": "code",
   "execution_count": 5,
   "id": "8d5e00e4",
   "metadata": {},
   "outputs": [],
   "source": [
    "# Define a class to fetch and process protein sequences from NCBI\n",
    "class NCBIProteinFetcher:\n",
    "    def __init__(self, email: str, return_maximum: int = return_maximum):\n",
    "        Entrez.email = email\n",
    "        self.return_maximum = return_maximum\n",
    "\n",
    "    # Fetch sequences from NCBI using protein IDs\n",
    "    def fetch_sequences(self, protein_ids):\n",
    "        \"\"\"Fetch GenBank-format protein records from NCBI.\"\"\"\n",
    "        handle = Entrez.efetch(\n",
    "            db=\"protein\",\n",
    "            id=\",\".join(protein_ids),\n",
    "            rettype=\"gb\",\n",
    "            retmode=\"text\",\n",
    "            retmax=self.return_maximum\n",
    "        )\n",
    "        records = list(SeqIO.parse(handle, \"genbank\"))\n",
    "        handle.close()\n",
    "        return records\n",
    "\n",
    "    # Clean up and process the fetched records\n",
    "    def update_record_descriptions(self, records):\n",
    "        \"\"\"Modify record.id to include description and clean it for FASTA headers.\"\"\"\n",
    "        for record in records:\n",
    "            clean_desc = record.description.replace(\" \", \"_\").replace(\",\", \"\").replace(\";\", \"\")\n",
    "            record.id = f\"{record.id}_{clean_desc}\"\n",
    "            record.description = \"\"\n",
    "        return records"
   ]
  },
  {
   "cell_type": "code",
   "execution_count": 6,
   "id": "71f7e933",
   "metadata": {},
   "outputs": [],
   "source": [
    "# Fetch and update records\n",
    "def fetch_and_update_sequences(protein_ids):\n",
    "    records = fetcher.fetch_sequences(protein_ids)\n",
    "    updated_records = fetcher.update_record_descriptions(records)\n",
    "    return updated_records"
   ]
  },
  {
   "cell_type": "code",
   "execution_count": 8,
   "id": "6c860ed7",
   "metadata": {},
   "outputs": [],
   "source": [
    "# Retrieve sequences from NCBI\n",
    "step = 100\n",
    "records_all = []\n",
    "\n",
    "# Instantiate the fetcher\n",
    "fetcher = NCBIProteinFetcher(email=\"James.Chang@bcm.edu\", return_maximum=return_maximum)\n",
    "\n",
    "# Retrieve and process sequences in increments\n",
    "for i in range(0, len(protein_ids), step):\n",
    "    print(f\"Processing records from {i} to {min(i + step, len(protein_ids))}\")\n",
    "    protein_ids_chunk = protein_ids[i:min(i + step, len(protein_ids))]\n",
    "    records_chunk = fetch_and_update_sequences(protein_ids_chunk)\n",
    "    records_all.extend(records_chunk)"
   ]
  },
  {
   "cell_type": "code",
   "execution_count": 10,
   "id": "7e3e12a7",
   "metadata": {},
   "outputs": [],
   "source": [
    "# Write to FASTA file\n",
    "output_file = \"/home/azureuser/cloudfiles/code/Users/jc62/projects/direct_sequence_analysis/data/antiphage_sequences.fasta\"\n",
    "with open(output_file, \"w\") as fasta_out:\n",
    "    SeqIO.write(records_all, fasta_out, \"fasta\")"
   ]
  }
 ],
 "metadata": {
  "kernelspec": {
   "display_name": "Python 3.8 - Pytorch and Tensorflow",
   "language": "python",
   "name": "python38-azureml-pt-tf"
  }
 },
 "nbformat": 4,
 "nbformat_minor": 5
}
