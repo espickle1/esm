{
 "cells": [
  {
   "cell_type": "code",
   "execution_count": 38,
   "id": "6850b064",
   "metadata": {},
   "outputs": [
    {
     "name": "stdout",
     "output_type": "stream",
     "text": [
      "Requirement already satisfied: esm in /anaconda/envs/azureml_py38/lib/python3.10/site-packages (3.2.0)\n",
      "Requirement already satisfied: einops in /anaconda/envs/azureml_py38/lib/python3.10/site-packages (from esm) (0.8.1)\n",
      "Requirement already satisfied: biotite>=1.0.0 in /anaconda/envs/azureml_py38/lib/python3.10/site-packages (from esm) (1.2.0)\n",
      "Requirement already satisfied: msgpack-numpy in /anaconda/envs/azureml_py38/lib/python3.10/site-packages (from esm) (0.4.8)\n",
      "Requirement already satisfied: pandas in /anaconda/envs/azureml_py38/lib/python3.10/site-packages (from esm) (1.3.5)\n",
      "Requirement already satisfied: torchtext in /anaconda/envs/azureml_py38/lib/python3.10/site-packages (from esm) (0.18.0)\n",
      "Requirement already satisfied: torch>=2.2.0 in /anaconda/envs/azureml_py38/lib/python3.10/site-packages (from esm) (2.7.1)\n",
      "Requirement already satisfied: biopython in /anaconda/envs/azureml_py38/lib/python3.10/site-packages (from esm) (1.85)\n",
      "Requirement already satisfied: transformers<4.48.2 in /anaconda/envs/azureml_py38/lib/python3.10/site-packages (from esm) (4.48.1)\n",
      "Requirement already satisfied: torchvision in /anaconda/envs/azureml_py38/lib/python3.10/site-packages (from esm) (0.22.1)\n",
      "Requirement already satisfied: ipython in /anaconda/envs/azureml_py38/lib/python3.10/site-packages (from esm) (8.26.0)\n",
      "Requirement already satisfied: cloudpathlib in /anaconda/envs/azureml_py38/lib/python3.10/site-packages (from esm) (0.16.0)\n",
      "Requirement already satisfied: tenacity in /anaconda/envs/azureml_py38/lib/python3.10/site-packages (from esm) (9.0.0)\n",
      "Requirement already satisfied: brotli in /anaconda/envs/azureml_py38/lib/python3.10/site-packages (from esm) (1.0.9)\n",
      "Requirement already satisfied: scikit-learn in /anaconda/envs/azureml_py38/lib/python3.10/site-packages (from esm) (1.5.1)\n",
      "Requirement already satisfied: attrs in /anaconda/envs/azureml_py38/lib/python3.10/site-packages (from esm) (24.2.0)\n",
      "Requirement already satisfied: zstd in /anaconda/envs/azureml_py38/lib/python3.10/site-packages (from esm) (1.5.7.1)\n",
      "Requirement already satisfied: packaging>=24.0 in /anaconda/envs/azureml_py38/lib/python3.10/site-packages (from biotite>=1.0.0->esm) (25.0)\n",
      "Requirement already satisfied: requests>=2.12 in /anaconda/envs/azureml_py38/lib/python3.10/site-packages (from biotite>=1.0.0->esm) (2.32.4)\n",
      "Requirement already satisfied: msgpack>=0.5.6 in /anaconda/envs/azureml_py38/lib/python3.10/site-packages (from biotite>=1.0.0->esm) (1.0.8)\n",
      "Requirement already satisfied: biotraj<2.0,>=1.0 in /anaconda/envs/azureml_py38/lib/python3.10/site-packages (from biotite>=1.0.0->esm) (1.2.2)\n",
      "Requirement already satisfied: numpy>=1.25 in /anaconda/envs/azureml_py38/lib/python3.10/site-packages (from biotite>=1.0.0->esm) (2.2.6)\n",
      "Requirement already satisfied: networkx>=2.0 in /anaconda/envs/azureml_py38/lib/python3.10/site-packages (from biotite>=1.0.0->esm) (3.4.2)\n",
      "Requirement already satisfied: nvidia-cufft-cu12==11.3.0.4 in /anaconda/envs/azureml_py38/lib/python3.10/site-packages (from torch>=2.2.0->esm) (11.3.0.4)\n",
      "Requirement already satisfied: nvidia-cusparse-cu12==12.5.4.2 in /anaconda/envs/azureml_py38/lib/python3.10/site-packages (from torch>=2.2.0->esm) (12.5.4.2)\n",
      "Requirement already satisfied: nvidia-nvjitlink-cu12==12.6.85 in /anaconda/envs/azureml_py38/lib/python3.10/site-packages (from torch>=2.2.0->esm) (12.6.85)\n",
      "Requirement already satisfied: nvidia-cusparselt-cu12==0.6.3 in /anaconda/envs/azureml_py38/lib/python3.10/site-packages (from torch>=2.2.0->esm) (0.6.3)\n",
      "Requirement already satisfied: nvidia-cusolver-cu12==11.7.1.2 in /anaconda/envs/azureml_py38/lib/python3.10/site-packages (from torch>=2.2.0->esm) (11.7.1.2)\n",
      "Requirement already satisfied: nvidia-cufile-cu12==1.11.1.6 in /anaconda/envs/azureml_py38/lib/python3.10/site-packages (from torch>=2.2.0->esm) (1.11.1.6)\n",
      "Requirement already satisfied: nvidia-cuda-runtime-cu12==12.6.77 in /anaconda/envs/azureml_py38/lib/python3.10/site-packages (from torch>=2.2.0->esm) (12.6.77)\n",
      "Requirement already satisfied: nvidia-nvtx-cu12==12.6.77 in /anaconda/envs/azureml_py38/lib/python3.10/site-packages (from torch>=2.2.0->esm) (12.6.77)\n",
      "Requirement already satisfied: filelock in /anaconda/envs/azureml_py38/lib/python3.10/site-packages (from torch>=2.2.0->esm) (3.18.0)\n",
      "Requirement already satisfied: jinja2 in /anaconda/envs/azureml_py38/lib/python3.10/site-packages (from torch>=2.2.0->esm) (3.1.6)\n",
      "Requirement already satisfied: nvidia-cuda-nvrtc-cu12==12.6.77 in /anaconda/envs/azureml_py38/lib/python3.10/site-packages (from torch>=2.2.0->esm) (12.6.77)\n",
      "Requirement already satisfied: nvidia-cudnn-cu12==9.5.1.17 in /anaconda/envs/azureml_py38/lib/python3.10/site-packages (from torch>=2.2.0->esm) (9.5.1.17)\n",
      "Requirement already satisfied: nvidia-cublas-cu12==12.6.4.1 in /anaconda/envs/azureml_py38/lib/python3.10/site-packages (from torch>=2.2.0->esm) (12.6.4.1)\n",
      "Requirement already satisfied: nvidia-cuda-cupti-cu12==12.6.80 in /anaconda/envs/azureml_py38/lib/python3.10/site-packages (from torch>=2.2.0->esm) (12.6.80)\n",
      "Requirement already satisfied: typing-extensions>=4.10.0 in /anaconda/envs/azureml_py38/lib/python3.10/site-packages (from torch>=2.2.0->esm) (4.14.0)\n",
      "Requirement already satisfied: triton==3.3.1 in /anaconda/envs/azureml_py38/lib/python3.10/site-packages (from torch>=2.2.0->esm) (3.3.1)\n",
      "Requirement already satisfied: sympy>=1.13.3 in /anaconda/envs/azureml_py38/lib/python3.10/site-packages (from torch>=2.2.0->esm) (1.14.0)\n",
      "Requirement already satisfied: nvidia-curand-cu12==10.3.7.77 in /anaconda/envs/azureml_py38/lib/python3.10/site-packages (from torch>=2.2.0->esm) (10.3.7.77)\n",
      "Requirement already satisfied: nvidia-nccl-cu12==2.26.2 in /anaconda/envs/azureml_py38/lib/python3.10/site-packages (from torch>=2.2.0->esm) (2.26.2)\n",
      "Requirement already satisfied: fsspec in /anaconda/envs/azureml_py38/lib/python3.10/site-packages (from torch>=2.2.0->esm) (2025.5.1)\n",
      "Requirement already satisfied: setuptools>=40.8.0 in /anaconda/envs/azureml_py38/lib/python3.10/site-packages (from triton==3.3.1->torch>=2.2.0->esm) (80.9.0)\n",
      "Requirement already satisfied: tqdm>=4.27 in /anaconda/envs/azureml_py38/lib/python3.10/site-packages (from transformers<4.48.2->esm) (4.67.1)\n",
      "Requirement already satisfied: tokenizers<0.22,>=0.21 in /anaconda/envs/azureml_py38/lib/python3.10/site-packages (from transformers<4.48.2->esm) (0.21.1)\n",
      "Requirement already satisfied: huggingface-hub<1.0,>=0.24.0 in /anaconda/envs/azureml_py38/lib/python3.10/site-packages (from transformers<4.48.2->esm) (0.33.0)\n",
      "Requirement already satisfied: pyyaml>=5.1 in /anaconda/envs/azureml_py38/lib/python3.10/site-packages (from transformers<4.48.2->esm) (6.0.2)\n",
      "Requirement already satisfied: regex!=2019.12.17 in /anaconda/envs/azureml_py38/lib/python3.10/site-packages (from transformers<4.48.2->esm) (2024.11.6)\n",
      "Requirement already satisfied: safetensors>=0.4.1 in /anaconda/envs/azureml_py38/lib/python3.10/site-packages (from transformers<4.48.2->esm) (0.5.3)\n",
      "Requirement already satisfied: stack-data in /anaconda/envs/azureml_py38/lib/python3.10/site-packages (from ipython->esm) (0.6.3)\n",
      "Requirement already satisfied: matplotlib-inline in /anaconda/envs/azureml_py38/lib/python3.10/site-packages (from ipython->esm) (0.1.7)\n",
      "Requirement already satisfied: jedi>=0.16 in /anaconda/envs/azureml_py38/lib/python3.10/site-packages (from ipython->esm) (0.17.2)\n",
      "Requirement already satisfied: pexpect>4.3 in /anaconda/envs/azureml_py38/lib/python3.10/site-packages (from ipython->esm) (4.9.0)\n",
      "Requirement already satisfied: traitlets>=5.13.0 in /anaconda/envs/azureml_py38/lib/python3.10/site-packages (from ipython->esm) (5.14.3)\n",
      "Requirement already satisfied: exceptiongroup in /anaconda/envs/azureml_py38/lib/python3.10/site-packages (from ipython->esm) (1.2.2)\n",
      "Requirement already satisfied: prompt-toolkit<3.1.0,>=3.0.41 in /anaconda/envs/azureml_py38/lib/python3.10/site-packages (from ipython->esm) (3.0.47)\n",
      "Requirement already satisfied: pygments>=2.4.0 in /anaconda/envs/azureml_py38/lib/python3.10/site-packages (from ipython->esm) (2.18.0)\n",
      "Requirement already satisfied: decorator in /anaconda/envs/azureml_py38/lib/python3.10/site-packages (from ipython->esm) (5.1.1)\n",
      "Requirement already satisfied: pytz>=2017.3 in /anaconda/envs/azureml_py38/lib/python3.10/site-packages (from pandas->esm) (2022.5)\n",
      "Requirement already satisfied: python-dateutil>=2.7.3 in /anaconda/envs/azureml_py38/lib/python3.10/site-packages (from pandas->esm) (2.9.0.post0)\n",
      "Requirement already satisfied: joblib>=1.2.0 in /anaconda/envs/azureml_py38/lib/python3.10/site-packages (from scikit-learn->esm) (1.2.0)\n",
      "Requirement already satisfied: scipy>=1.6.0 in /anaconda/envs/azureml_py38/lib/python3.10/site-packages (from scikit-learn->esm) (1.15.3)\n",
      "Requirement already satisfied: threadpoolctl>=3.1.0 in /anaconda/envs/azureml_py38/lib/python3.10/site-packages (from scikit-learn->esm) (3.5.0)\n",
      "Requirement already satisfied: pillow!=8.3.*,>=5.3.0 in /anaconda/envs/azureml_py38/lib/python3.10/site-packages (from torchvision->esm) (9.2.0)\n",
      "Requirement already satisfied: hf-xet<2.0.0,>=1.1.2 in /anaconda/envs/azureml_py38/lib/python3.10/site-packages (from huggingface-hub<1.0,>=0.24.0->transformers<4.48.2->esm) (1.1.4)\n",
      "Requirement already satisfied: parso<0.8.0,>=0.7.0 in /anaconda/envs/azureml_py38/lib/python3.10/site-packages (from jedi>=0.16->ipython->esm) (0.7.1)\n",
      "Requirement already satisfied: ptyprocess>=0.5 in /anaconda/envs/azureml_py38/lib/python3.10/site-packages (from pexpect>4.3->ipython->esm) (0.7.0)\n",
      "Requirement already satisfied: wcwidth in /anaconda/envs/azureml_py38/lib/python3.10/site-packages (from prompt-toolkit<3.1.0,>=3.0.41->ipython->esm) (0.2.13)\n",
      "Requirement already satisfied: six>=1.5 in /anaconda/envs/azureml_py38/lib/python3.10/site-packages (from python-dateutil>=2.7.3->pandas->esm) (1.16.0)\n",
      "Requirement already satisfied: idna<4,>=2.5 in /anaconda/envs/azureml_py38/lib/python3.10/site-packages (from requests>=2.12->biotite>=1.0.0->esm) (3.10)\n",
      "Requirement already satisfied: certifi>=2017.4.17 in /anaconda/envs/azureml_py38/lib/python3.10/site-packages (from requests>=2.12->biotite>=1.0.0->esm) (2025.6.15)\n",
      "Requirement already satisfied: charset_normalizer<4,>=2 in /anaconda/envs/azureml_py38/lib/python3.10/site-packages (from requests>=2.12->biotite>=1.0.0->esm) (3.4.2)\n",
      "Requirement already satisfied: urllib3<3,>=1.21.1 in /anaconda/envs/azureml_py38/lib/python3.10/site-packages (from requests>=2.12->biotite>=1.0.0->esm) (2.4.0)\n",
      "Requirement already satisfied: mpmath<1.4,>=1.1.0 in /anaconda/envs/azureml_py38/lib/python3.10/site-packages (from sympy>=1.13.3->torch>=2.2.0->esm) (1.3.0)\n",
      "Requirement already satisfied: MarkupSafe>=2.0 in /anaconda/envs/azureml_py38/lib/python3.10/site-packages (from jinja2->torch>=2.2.0->esm) (3.0.2)\n",
      "Requirement already satisfied: pure-eval in /anaconda/envs/azureml_py38/lib/python3.10/site-packages (from stack-data->ipython->esm) (0.2.3)\n",
      "Requirement already satisfied: asttokens>=2.1.0 in /anaconda/envs/azureml_py38/lib/python3.10/site-packages (from stack-data->ipython->esm) (2.4.1)\n",
      "Requirement already satisfied: executing>=1.2.0 in /anaconda/envs/azureml_py38/lib/python3.10/site-packages (from stack-data->ipython->esm) (2.1.0)\n",
      "Requirement already satisfied: biopython in /anaconda/envs/azureml_py38/lib/python3.10/site-packages (1.85)\n",
      "Requirement already satisfied: numpy in /anaconda/envs/azureml_py38/lib/python3.10/site-packages (from biopython) (2.2.6)\n",
      "Requirement already satisfied: py3Dmol in /anaconda/envs/azureml_py38/lib/python3.10/site-packages (2.5.1)\n"
     ]
    }
   ],
   "source": [
    "!pip install esm\n",
    "!pip install biopython\n",
    "!pip install py3Dmol"
   ]
  },
  {
   "cell_type": "code",
   "execution_count": 39,
   "id": "a088e2d8",
   "metadata": {},
   "outputs": [],
   "source": [
    "# Import libraries\n",
    "# Standard libraries\n",
    "import pandas as pd\n",
    "import numpy as np\n",
    "\n",
    "from Bio import SeqIO\n",
    "import matplotlib.pyplot as plt\n",
    "\n",
    "# ML libraries\n",
    "import torch\n",
    "from huggingface_hub import login\n",
    "\n",
    "# ESMC and batching libraries\n",
    "import esm\n",
    "from esm.sdk.api import (\n",
    "    ESM3InferenceClient, \n",
    "    ESMProtein, \n",
    "    GenerationConfig, \n",
    "    ESMProteinError, \n",
    "    ProteinType\n",
    ")\n",
    "from concurrent.futures import ThreadPoolExecutor\n",
    "from typing import Sequence"
   ]
  },
  {
   "cell_type": "code",
   "execution_count": 40,
   "id": "f6c0c2d2",
   "metadata": {},
   "outputs": [],
   "source": [
    "## Load ESM-C models from forge\n",
    "from getpass import getpass\n",
    "token = getpass(\"Token from Forge console: \")\n",
    "\n",
    "from esm.sdk import client\n",
    "model: ESM3InferenceClient = esm.sdk.client(\n",
    "    model=\"esm3-medium-2024-08\",\n",
    "    url=\"https://forge.evolutionaryscale.ai\",\n",
    "    token=token\n",
    ")"
   ]
  },
  {
   "cell_type": "code",
   "execution_count": 41,
   "id": "e2cc20b9",
   "metadata": {},
   "outputs": [],
   "source": [
    "## Read all sequences as fasta files\n",
    "def read_sequences(\n",
    "    fasta_path: str) -> pd.DataFrame:\n",
    "    fasta_df = pd.DataFrame(columns=[\"description\", \"sequence\"])\n",
    "    for record in SeqIO.parse(fasta_path, \"fasta\"):\n",
    "        fasta_df = pd.concat(\n",
    "            [fasta_df, pd.DataFrame(\n",
    "                [[record.description, str(record.seq)]], \n",
    "                columns=[\"description\", \"sequence\"])], \n",
    "            ignore_index=True\n",
    "        )\n",
    "    return fasta_df"
   ]
  },
  {
   "cell_type": "code",
   "execution_count": 42,
   "id": "b3bd18b8",
   "metadata": {},
   "outputs": [],
   "source": [
    "## Input sequences and output logits and embeddings\n",
    "def structure_sequence(\n",
    "    model: ESM3InferenceClient, sequence: str):\n",
    "    protein = ESMProtein(sequence=sequence)\n",
    "    protein_structure = model.generate(\n",
    "        protein, \n",
    "        GenerationConfig(\n",
    "            track='structure', \n",
    "            num_steps=16, \n",
    "            temperature=0.2\n",
    "            )\n",
    "        )\n",
    "    return protein_structure\n",
    "\n",
    "## Batch embed sequences\n",
    "def batch_structure(\n",
    "    model: ESM3InferenceClient, inputs: Sequence[ProteinType]):\n",
    "    with ThreadPoolExecutor() as executor:\n",
    "        futures = [\n",
    "            executor.submit(structure_sequence, model, protein) for protein in inputs\n",
    "        ]\n",
    "        results = []\n",
    "        for future in futures:\n",
    "            try:\n",
    "                results.append(future.result())\n",
    "            except Exception as e:\n",
    "                results.append(ESMProteinError(500, str(e)))\n",
    "    return results"
   ]
  },
  {
   "cell_type": "code",
   "execution_count": 43,
   "id": "c681e997",
   "metadata": {},
   "outputs": [],
   "source": [
    "## Run the program!\n",
    "# Import sequences and filter\n",
    "fasta_path = '/home/azureuser/cloudfiles/code/Users/jc62/projects/direct_sequence_analysis/data/embeddings/ncbi_search/ads_core_gene_sequences_10/ads_test_human_dozen.fasta'\n",
    "fasta_df = read_sequences(fasta_path)\n",
    "\n",
    "# Carry out structure prediction operation\n",
    "outputs = batch_structure(model, fasta_df[\"sequence\"].tolist())"
   ]
  },
  {
   "cell_type": "code",
   "execution_count": 44,
   "id": "6599405a",
   "metadata": {},
   "outputs": [],
   "source": [
    "## Save the output\n",
    "torch.save(outputs, '/home/azureuser/cloudfiles/code/Users/jc62/projects/direct_sequence_analysis/data/structures/ads_test_human_dozen_structure_tensors.pt')"
   ]
  },
  {
   "cell_type": "code",
   "execution_count": null,
   "id": "83e83e16",
   "metadata": {},
   "outputs": [
    {
     "name": "stderr",
     "output_type": "stream",
     "text": [
      "/anaconda/envs/azureml_py38_PT_TF/lib/python3.10/site-packages/esm/utils/structure/protein_complex.py:223: UserWarning: Entity ID not found in metadata, using None as default\n",
      "  warnings.warn(\"Entity ID not found in metadata, using None as default\")\n"
     ]
    }
   ],
   "source": [
    "## To convert output structure tensors to PDB format\n",
    "## outputs[0].to_pdb(\"/home/azureuser/cloudfiles/code/Users/jc62/projects/direct_sequence_analysis/data/structures/ads_hCG.pdb\")"
   ]
  }
 ],
 "metadata": {
  "kernelspec": {
   "display_name": "Python 3.8 - Pytorch and Tensorflow",
   "language": "python",
   "name": "python38-azureml-pt-tf"
  },
  "language_info": {
   "codemirror_mode": {
    "name": "ipython",
    "version": 3
   },
   "file_extension": ".py",
   "mimetype": "text/x-python",
   "name": "python",
   "nbconvert_exporter": "python",
   "pygments_lexer": "ipython3",
   "version": "3.10.14"
  }
 },
 "nbformat": 4,
 "nbformat_minor": 5
}
