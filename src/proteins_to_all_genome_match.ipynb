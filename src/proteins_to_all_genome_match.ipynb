{
  "cells": [
    {
      "cell_type": "code",
      "execution_count": null,
      "metadata": {
        "id": "bUfyY7QOcW5f"
      },
      "outputs": [],
      "source": [
        "## Import libraries\n",
        "import pandas as pd\n",
        "import numpy as np\n",
        "import io\n",
        "import os\n",
        "import matplotlib.pyplot as plt\n",
        "import re"
      ]
    },
    {
      "cell_type": "code",
      "execution_count": null,
      "metadata": {
        "id": "iCsV0XS7cW5h"
      },
      "outputs": [],
      "source": [
        "## Set up NCBI Entrez\n",
        "from Bio import Entrez, SeqIO\n",
        "\n",
        "# Set email (required for NCBI access)\n",
        "Entrez.email = \"James.Chang@bcm.edu\""
      ]
    },
    {
      "cell_type": "code",
      "execution_count": null,
      "metadata": {
        "id": "7VG76usxcW5i"
      },
      "outputs": [],
      "source": [
        "## Load files\n",
        "# Load wastewater file\n",
        "big_merge = pd.read_csv(\"/home/azureuser/cloudfiles/code/Users/jc62/projects/llm_combined/data/big_merge_dec_2024.csv\", sep=\"\\t\")\n",
        "\n",
        "# Load GenBank files for accession numbers and data\n",
        "record = list(SeqIO.parse(\"/home/azureuser/cloudfiles/code/Users/jc62/projects/llm_combined/data/big_merge_entrez_records.gb\", \"genbank\"))"
      ]
    },
    {
      "cell_type": "code",
      "execution_count": null,
      "metadata": {
        "id": "tsFPMvu_cW5i"
      },
      "outputs": [],
      "source": [
        "## Function to extract translation and metadata from GenBank records\n",
        "def pull_translation_and_meta(record, index):\n",
        "    # Initialize and set apart features and annotations for index number being queried\n",
        "    extracted_annotations_per_accession = []\n",
        "    extracted_cds_per_accession = []\n",
        "\n",
        "    record_features = record[index].features\n",
        "    record_annotations = record[index].annotations\n",
        "\n",
        "    # Gene annotation extraction\n",
        "    record_annotations_accessions = record_annotations.get('accessions', [\"Unknown\"])\n",
        "    record_annotations_organism = record_annotations.get('organism', [\"Unknown\"])\n",
        "    record_annotations_taxonomy = record_annotations.get('taxonomy', [\"Unknown\"])\n",
        "    extracted_annotations = record_annotations_accessions[0], record_annotations_organism , record_annotations_taxonomy\n",
        "    extracted_annotations_per_accession.append(extracted_annotations)\n",
        "\n",
        "    # Protein feature extraction\n",
        "    if len(record_features) > 0:\n",
        "        for feature in record_features:\n",
        "            if feature.type == \"CDS\":\n",
        "                gene = feature.qualifiers.get(\"gene\", [\"Unknown\"])[0]\n",
        "                product = feature.qualifiers.get(\"product\", [\"Unknown\"])[0]\n",
        "                protein_id = feature.qualifiers.get(\"protein_id\", [\"Unknown\"])[0]\n",
        "                translation = feature.qualifiers.get(\"translation\", [\"No translation available\"])[0]\n",
        "                extracted_cds = gene, product, protein_id, translation\n",
        "                extracted_cds_per_accession.append(extracted_cds)\n",
        "\n",
        "    # Combine extracted annotations and CDS data into a DataFrame\n",
        "    extracted_annotations_per_accession_df = pd.DataFrame(extracted_annotations_per_accession, columns=[\"Gene ID\", \"Organism\", \"Taxonomy\"])\n",
        "    extracted_cds_per_accession_df = pd.DataFrame(extracted_cds_per_accession, columns=[\"Gene\", \"Product\", \"Protein ID\", \"Translation\"])\n",
        "    combined_record = extracted_annotations_per_accession_df.merge(\n",
        "        extracted_cds_per_accession_df, how=\"cross\"\n",
        "    )\n",
        "\n",
        "    return extracted_annotations_per_accession, extracted_cds_per_accession, combined_record"
      ]
    },
    {
      "cell_type": "code",
      "execution_count": null,
      "metadata": {
        "id": "S6JbstT_cW5i"
      },
      "outputs": [],
      "source": [
        "## Extract all translations and metadata for all records\n",
        "combined_record_sum = []\n",
        "\n",
        "# Loop through all entries in GenBank record\n",
        "for index, record_entry in enumerate(record):\n",
        "    annotation_accession, features_accession, combined_record = pull_translation_and_meta(record, index)\n",
        "    combined_record_sum.append(combined_record)\n",
        "\n",
        "# Concat and combine all data into single dataframe\n",
        "combined_record_df = pd.concat(combined_record_sum, ignore_index=True)"
      ]
    },
    {
      "cell_type": "code",
      "execution_count": null,
      "metadata": {
        "id": "5FJAcTvCcW5i"
      },
      "outputs": [],
      "source": [
        "## Example usage\n",
        "# Pull the first 10 records for demonstration\n",
        "big_merge_10 = big_merge.loc[0:9]\n",
        "big_merge_10['key'] = big_merge_10['accession'].str.rsplit(\".\", 1).str[0] # Note that periods in accession needs to be dropped"
      ]
    },
    {
      "cell_type": "code",
      "execution_count": null,
      "metadata": {
        "id": "NYDZKN1DcW5j"
      },
      "outputs": [],
      "source": [
        "# Rename Gene ID as key to match GenBank and wastewater data\n",
        "combined_record_df.rename(columns={\"Gene ID\": \"key\"}, inplace=True)\n",
        "\n",
        "# Merge both dataframes for final set\n",
        "big_merge_10_translate = big_merge_10.merge(combined_record_df, on=\"key\", how=\"left\")"
      ]
    }
  ],
  "metadata": {
    "kernelspec": {
      "display_name": "Python 3.8 - AzureML",
      "language": "python",
      "name": "python38-azureml"
    },
    "colab": {
      "provenance": []
    }
  },
  "nbformat": 4,
  "nbformat_minor": 0
}