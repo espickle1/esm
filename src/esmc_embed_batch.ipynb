{
 "cells": [
  {
   "cell_type": "code",
   "execution_count": null,
   "id": "6850b064",
   "metadata": {},
   "outputs": [],
   "source": [
    "!pip install esm\n",
    "!pip install biopython"
   ]
  },
  {
   "cell_type": "code",
   "execution_count": null,
   "id": "a088e2d8",
   "metadata": {},
   "outputs": [],
   "source": [
    "# Import libraries\n",
    "# Standard libraries\n",
    "import pandas as pd\n",
    "import numpy as np\n",
    "\n",
    "from Bio import SeqIO\n",
    "import matplotlib.pyplot as plt\n",
    "\n",
    "# ML libraries\n",
    "import torch\n",
    "from huggingface_hub import login\n",
    "\n",
    "# ESMC and batching libraries\n",
    "import esm\n",
    "from esm.sdk.api import (\n",
    "    ESM3InferenceClient, \n",
    "    ESMProtein, \n",
    "    GenerationConfig, \n",
    "    ESMProteinError, \n",
    "    LogitsConfig, \n",
    "    LogitsOutput, \n",
    "    ProteinType\n",
    ")\n",
    "from concurrent.futures import ThreadPoolExecutor\n",
    "from typing import Sequence"
   ]
  },
  {
   "cell_type": "code",
   "execution_count": null,
   "id": "f6c0c2d2",
   "metadata": {},
   "outputs": [],
   "source": [
    "## Load ESM-C models from forge\n",
    "from getpass import getpass\n",
    "token = getpass(\"Token from Forge console: \")\n",
    "\n",
    "from esm.sdk import client\n",
    "model: ESM3InferenceClient = esm.sdk.client(\n",
    "    model=\"esmc-6b-2024-12\",\n",
    "    url=\"https://forge.evolutionaryscale.ai\",\n",
    "    token=token\n",
    ")"
   ]
  },
  {
   "cell_type": "code",
   "execution_count": null,
   "id": "e2cc20b9",
   "metadata": {},
   "outputs": [],
   "source": [
    "## Read all sequences as fasta files\n",
    "def read_sequences(\n",
    "    fasta_path: str) -> pd.DataFrame:\n",
    "    fasta_df = pd.DataFrame(columns=[\"description\", \"sequence\"])\n",
    "    for record in SeqIO.parse(fasta_path, \"fasta\"):\n",
    "        fasta_df = pd.concat(\n",
    "            [fasta_df, pd.DataFrame(\n",
    "                [[record.id, str(record.seq)]], \n",
    "                columns=[\"description\", \"sequence\"])], \n",
    "            ignore_index=True\n",
    "        )\n",
    "    return fasta_df"
   ]
  },
  {
   "cell_type": "code",
   "execution_count": null,
   "id": "f6241b54",
   "metadata": {},
   "outputs": [],
   "source": [
    "## Input sequences and output logits and embeddings\n",
    "def embed_sequence(\n",
    "    model: ESM3InferenceClient, sequence: str) -> LogitsOutput:\n",
    "    protein = ESMProtein(sequence=sequence)\n",
    "    protein_tensor = model.encode(protein)\n",
    "    logits_output = model.logits(\n",
    "       protein_tensor, LogitsConfig(\n",
    "           sequence=True, \n",
    "           return_embeddings=True,\n",
    "           return_hidden_states=False\n",
    "           )\n",
    "    )\n",
    "    return logits_output\n",
    "\n",
    "## Batch embed sequences\n",
    "def batch_embed(\n",
    "    model: ESM3InferenceClient, inputs: Sequence[ProteinType]) -> Sequence[LogitsOutput]:\n",
    "    with ThreadPoolExecutor() as executor:\n",
    "        futures = [\n",
    "            executor.submit(embed_sequence, model, protein) for protein in inputs\n",
    "        ]\n",
    "        results = []\n",
    "        for future in futures:\n",
    "            try:\n",
    "                results.append(future.result())\n",
    "            except Exception as e:\n",
    "                results.append(ESMProteinError(500, str(e)))\n",
    "    return results"
   ]
  },
  {
   "cell_type": "code",
   "execution_count": null,
   "id": "62c9a1c1",
   "metadata": {},
   "outputs": [],
   "source": [
    "## Input sequences and output encoded sequence\n",
    "def encode_sequence(\n",
    "    model: ESM3InferenceClient, sequence: str) -> torch.Tensor:\n",
    "    protein = ESMProtein(sequence=sequence)\n",
    "    protein_tensor = model.encode(protein)\n",
    "    return protein_tensor\n",
    "\n",
    "## Batch encode sequences\n",
    "def batch_encode(\n",
    "    model: ESM3InferenceClient, inputs: Sequence[ProteinType]) -> Sequence[torch.Tensor]:\n",
    "    with ThreadPoolExecutor() as executor:\n",
    "        futures = [\n",
    "            executor.submit(encode_sequence, model, protein) for protein in inputs\n",
    "        ]\n",
    "        results = []\n",
    "        for future in futures:\n",
    "            try:\n",
    "                results.append(future.result())\n",
    "            except Exception as e:\n",
    "                print(e)\n",
    "    return results"
   ]
  },
  {
   "cell_type": "code",
   "execution_count": null,
   "id": "c681e997",
   "metadata": {},
   "outputs": [],
   "source": [
    "## Run the program!\n",
    "# Import sequences and filter\n",
    "fasta_path = '/home/azureuser/cloudfiles/code/Users/jc62/projects/direct_sequence_analysis/data/antiphage_sequences.fasta'\n",
    "fasta_df = read_sequences(fasta_path)\n",
    "# Filter sequences for processing\n",
    "fasta_short = fasta_df.sample(500, random_state=31718)\n",
    "fasta_really_short = fasta_df[fasta_df['sequence'].str.len() < 400]\n",
    "print(f\"{fasta_short['sequence'].str.len().describe()}\")\n",
    "\n",
    "# Carry out pLLM operation\n",
    "outputs = batch_embed(model, fasta_really_short[\"sequence\"].tolist())\n",
    "# or\n",
    "output_tensors = batch_encode(model, fasta_short[\"sequence\"].tolist())"
   ]
  },
  {
   "cell_type": "code",
   "execution_count": null,
   "id": "6599405a",
   "metadata": {},
   "outputs": [],
   "source": [
    "## Save the output\n",
    "torch.save(outputs, '/home/azureuser/cloudfiles/code/Users/jc62/projects/direct_sequence_analysis/data/esmc_embed_batch_500.pt')"
   ]
  }
 ],
 "metadata": {
  "kernelspec": {
   "display_name": "Python 3.8 - Pytorch and Tensorflow",
   "language": "python",
   "name": "python38-azureml-pt-tf"
  },
  "language_info": {
   "codemirror_mode": {
    "name": "ipython",
    "version": 3
   },
   "file_extension": ".py",
   "mimetype": "text/x-python",
   "name": "python",
   "nbconvert_exporter": "python",
   "pygments_lexer": "ipython3",
   "version": "3.10.14"
  }
 },
 "nbformat": 4,
 "nbformat_minor": 5
}
