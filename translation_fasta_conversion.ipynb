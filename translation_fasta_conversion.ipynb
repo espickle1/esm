{
  "cells": [
    {
      "cell_type": "code",
      "execution_count": null,
      "metadata": {
        "id": "7_zMaaxpbyza"
      },
      "outputs": [],
      "source": [
        "!pip3 install biopython"
      ]
    },
    {
      "cell_type": "code",
      "execution_count": null,
      "metadata": {
        "id": "ccRmrsoebyzc"
      },
      "outputs": [],
      "source": [
        "# Install libraries\n",
        "import pandas as pd\n",
        "\n",
        "from Bio.Seq import Seq\n",
        "from Bio.SeqRecord import SeqRecord\n",
        "from Bio import SeqIO"
      ]
    },
    {
      "cell_type": "code",
      "execution_count": null,
      "metadata": {
        "id": "bXncK8Zbbyzd"
      },
      "outputs": [],
      "source": [
        "# Define file paths\n",
        "class FilePaths:\n",
        "    def __init__(self, input_path, clearned_up_input_path, output_path):\n",
        "        self.input_path = input_path\n",
        "        self.cleaned_up_input_path = clearned_up_input_path\n",
        "        self.output_path = output_path\n",
        "\n",
        "file_names = FilePaths(\n",
        "    input_path = \"/home/azureuser/cloudfiles/code/Users/jc62/projects/esm2/data/sequences/big_merge_translate_unique_translations_95_percent.csv\",\n",
        "    cleaned_up_input_path = \"/home/azureuser/cloudfiles/code/Users/jc62/projects/esm2/data/sequences/translations_1_6189.csv\",\n",
        "    output_path = \"/home/azureuser/cloudfiles/code/Users/jc62/projects/esm2/data/sequences/translations_complete.fasta\"\n",
        ")"
      ]
    },
    {
      "cell_type": "code",
      "execution_count": null,
      "metadata": {
        "id": "xIVtWUgsbyzd"
      },
      "outputs": [],
      "source": [
        "# Read translation data from processed wastewater data\n",
        "translation_data = pd.read_csv(file_names.input_path)"
      ]
    },
    {
      "cell_type": "code",
      "execution_count": null,
      "metadata": {
        "id": "lN-xWldpbyzd"
      },
      "outputs": [],
      "source": [
        "## Prepare the translation data for FASTA conversion input\n",
        "# Create key for each entry to identify unique sequences\n",
        "translation_data['key'] = (\n",
        "    translation_data['Protein ID'].astype(str) + '_' +\n",
        "    translation_data['Product'].astype(str) + '_' +\n",
        "    translation_data['Organism'].astype(str) +\n",
        "    '_length_' + translation_data['length'].astype(str) +\n",
        "    '_new_index_' + translation_data['new_index'].astype(str)\n",
        "    )\n",
        "\n",
        "# Clean up the key to remove spaces and special characters\n",
        "translation_data['key'] = translation_data['key'].str.replace(\" \", \"_\")\n",
        "translation_data['key'] = translation_data['key'].str.replace(r'[^\\w\\-.]', '', regex=True)\n",
        "\n",
        "# Output the cleaned up translation data to a new CSV file for record\n",
        "translation_data.to_csv(file_names.cleaned_up_input_path, index=False)"
      ]
    },
    {
      "cell_type": "code",
      "execution_count": null,
      "metadata": {
        "id": "UKRchZRmbyzd"
      },
      "outputs": [],
      "source": [
        "## Convert the translation data to FASTA format\n",
        "# Create a zipped list of meta data and sequences for FASTA conversion\n",
        "sequences = list(zip(\n",
        "    translation_data['new_index'].astype(str),\n",
        "    translation_data[\"Product\"],\n",
        "    translation_data['key'],\n",
        "    translation_data[\"Translation\"])\n",
        "    )\n",
        "translation_data['key_sequences'] = sequences\n",
        "\n",
        "# Convert to SeqRecord objects\n",
        "records = [SeqRecord(Seq(seq), id=id, name=name, description=description)\n",
        "           for id, name, description, seq in translation_data['key_sequences']]\n",
        "translation_data['record'] = records"
      ]
    },
    {
      "cell_type": "code",
      "execution_count": null,
      "metadata": {
        "id": "bAKRUMmAbyze"
      },
      "outputs": [],
      "source": [
        "# Write to FASTA\n",
        "with open(file_names.output_path, \"w\") as f:\n",
        "    SeqIO.write(records, f, \"fasta\")"
      ]
    },
    {
      "cell_type": "code",
      "execution_count": null,
      "metadata": {
        "id": "nHkji0dzbyze"
      },
      "outputs": [],
      "source": [
        "# Reading output FASTA file example\n",
        "fasta = pd.read_csv(\"/home/azureuser/cloudfiles/code/Users/jc62/projects/esm2/data/sequences/translations_complete.fasta\", header=None)\n",
        "print(fasta.head())"
      ]
    }
  ],
  "metadata": {
    "kernelspec": {
      "display_name": "Python 3.8 - AzureML",
      "language": "python",
      "name": "python38-azureml"
    },
    "language_info": {
      "codemirror_mode": {
        "name": "ipython",
        "version": 3
      },
      "file_extension": ".py",
      "mimetype": "text/x-python",
      "name": "python",
      "nbconvert_exporter": "python",
      "pygments_lexer": "ipython3",
      "version": "3.10.11"
    },
    "colab": {
      "provenance": []
    }
  },
  "nbformat": 4,
  "nbformat_minor": 0
}